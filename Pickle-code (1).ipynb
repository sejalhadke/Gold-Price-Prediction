{
 "cells": [
  {
   "cell_type": "code",
   "execution_count": 1,
   "id": "4ee543f5",
   "metadata": {
    "ExecuteTime": {
     "end_time": "2023-07-22T01:59:31.587055Z",
     "start_time": "2023-07-22T01:59:29.871198Z"
    }
   },
   "outputs": [],
   "source": [
    "import pandas as pd\n",
    "import numpy as np\n",
    "import matplotlib.pyplot as plt\n",
    "import seaborn as sns\n",
    "from scipy.stats import norm\n",
    "import warnings\n",
    "warnings.filterwarnings('ignore')"
   ]
  },
  {
   "cell_type": "code",
   "execution_count": 2,
   "id": "4cde43e4",
   "metadata": {
    "ExecuteTime": {
     "end_time": "2023-07-22T01:59:48.309368Z",
     "start_time": "2023-07-22T01:59:48.269102Z"
    }
   },
   "outputs": [],
   "source": [
    "gold = pd.read_csv('Gold.csv')"
   ]
  },
  {
   "cell_type": "code",
   "execution_count": 3,
   "id": "6637f6fd",
   "metadata": {
    "ExecuteTime": {
     "end_time": "2023-07-22T01:59:49.371266Z",
     "start_time": "2023-07-22T01:59:49.117458Z"
    }
   },
   "outputs": [],
   "source": [
    "from prophet import Prophet"
   ]
  },
  {
   "cell_type": "code",
   "execution_count": 4,
   "id": "c82f6596",
   "metadata": {
    "ExecuteTime": {
     "end_time": "2023-07-22T01:59:57.080086Z",
     "start_time": "2023-07-22T01:59:57.031600Z"
    }
   },
   "outputs": [
    {
     "data": {
      "text/html": [
       "<div>\n",
       "<style scoped>\n",
       "    .dataframe tbody tr th:only-of-type {\n",
       "        vertical-align: middle;\n",
       "    }\n",
       "\n",
       "    .dataframe tbody tr th {\n",
       "        vertical-align: top;\n",
       "    }\n",
       "\n",
       "    .dataframe thead th {\n",
       "        text-align: right;\n",
       "    }\n",
       "</style>\n",
       "<table border=\"1\" class=\"dataframe\">\n",
       "  <thead>\n",
       "    <tr style=\"text-align: right;\">\n",
       "      <th></th>\n",
       "      <th>date</th>\n",
       "      <th>price</th>\n",
       "    </tr>\n",
       "  </thead>\n",
       "  <tbody>\n",
       "    <tr>\n",
       "      <th>0</th>\n",
       "      <td>2016-01-01</td>\n",
       "      <td>2252.60</td>\n",
       "    </tr>\n",
       "    <tr>\n",
       "      <th>1</th>\n",
       "      <td>2016-01-02</td>\n",
       "      <td>2454.50</td>\n",
       "    </tr>\n",
       "    <tr>\n",
       "      <th>2</th>\n",
       "      <td>2016-01-03</td>\n",
       "      <td>2708.10</td>\n",
       "    </tr>\n",
       "    <tr>\n",
       "      <th>3</th>\n",
       "      <td>2016-01-04</td>\n",
       "      <td>2577.80</td>\n",
       "    </tr>\n",
       "    <tr>\n",
       "      <th>4</th>\n",
       "      <td>2016-01-05</td>\n",
       "      <td>2597.75</td>\n",
       "    </tr>\n",
       "    <tr>\n",
       "      <th>...</th>\n",
       "      <td>...</td>\n",
       "      <td>...</td>\n",
       "    </tr>\n",
       "    <tr>\n",
       "      <th>2177</th>\n",
       "      <td>2021-12-17</td>\n",
       "      <td>4394.40</td>\n",
       "    </tr>\n",
       "    <tr>\n",
       "      <th>2178</th>\n",
       "      <td>2021-12-18</td>\n",
       "      <td>4389.50</td>\n",
       "    </tr>\n",
       "    <tr>\n",
       "      <th>2179</th>\n",
       "      <td>2021-12-19</td>\n",
       "      <td>4389.50</td>\n",
       "    </tr>\n",
       "    <tr>\n",
       "      <th>2180</th>\n",
       "      <td>2021-12-20</td>\n",
       "      <td>4354.10</td>\n",
       "    </tr>\n",
       "    <tr>\n",
       "      <th>2181</th>\n",
       "      <td>2021-12-21</td>\n",
       "      <td>4346.50</td>\n",
       "    </tr>\n",
       "  </tbody>\n",
       "</table>\n",
       "<p>2182 rows × 2 columns</p>\n",
       "</div>"
      ],
      "text/plain": [
       "            date    price\n",
       "0     2016-01-01  2252.60\n",
       "1     2016-01-02  2454.50\n",
       "2     2016-01-03  2708.10\n",
       "3     2016-01-04  2577.80\n",
       "4     2016-01-05  2597.75\n",
       "...          ...      ...\n",
       "2177  2021-12-17  4394.40\n",
       "2178  2021-12-18  4389.50\n",
       "2179  2021-12-19  4389.50\n",
       "2180  2021-12-20  4354.10\n",
       "2181  2021-12-21  4346.50\n",
       "\n",
       "[2182 rows x 2 columns]"
      ]
     },
     "execution_count": 4,
     "metadata": {},
     "output_type": "execute_result"
    }
   ],
   "source": [
    "gold"
   ]
  },
  {
   "cell_type": "code",
   "execution_count": 5,
   "id": "b2d57ac5",
   "metadata": {
    "ExecuteTime": {
     "end_time": "2023-07-22T02:00:06.960342Z",
     "start_time": "2023-07-22T02:00:06.936522Z"
    }
   },
   "outputs": [],
   "source": [
    "gold.columns = [\"ds\",\"y\"]"
   ]
  },
  {
   "cell_type": "code",
   "execution_count": 6,
   "id": "f64aefa8",
   "metadata": {
    "ExecuteTime": {
     "end_time": "2023-07-22T02:00:33.902784Z",
     "start_time": "2023-07-22T02:00:27.730307Z"
    }
   },
   "outputs": [
    {
     "name": "stderr",
     "output_type": "stream",
     "text": [
      "21:00:46 - cmdstanpy - INFO - Chain [1] start processing\n",
      "21:00:47 - cmdstanpy - INFO - Chain [1] done processing\n"
     ]
    },
    {
     "data": {
      "text/plain": [
       "<prophet.forecaster.Prophet at 0x1956fcb5f40>"
      ]
     },
     "execution_count": 6,
     "metadata": {},
     "output_type": "execute_result"
    }
   ],
   "source": [
    "model = Prophet()\n",
    "model.fit(gold)"
   ]
  },
  {
   "cell_type": "code",
   "execution_count": 7,
   "id": "62269a8f",
   "metadata": {
    "ExecuteTime": {
     "end_time": "2023-07-22T02:00:40.211955Z",
     "start_time": "2023-07-22T02:00:40.171603Z"
    }
   },
   "outputs": [
    {
     "data": {
      "text/html": [
       "<div>\n",
       "<style scoped>\n",
       "    .dataframe tbody tr th:only-of-type {\n",
       "        vertical-align: middle;\n",
       "    }\n",
       "\n",
       "    .dataframe tbody tr th {\n",
       "        vertical-align: top;\n",
       "    }\n",
       "\n",
       "    .dataframe thead th {\n",
       "        text-align: right;\n",
       "    }\n",
       "</style>\n",
       "<table border=\"1\" class=\"dataframe\">\n",
       "  <thead>\n",
       "    <tr style=\"text-align: right;\">\n",
       "      <th></th>\n",
       "      <th>ds</th>\n",
       "    </tr>\n",
       "  </thead>\n",
       "  <tbody>\n",
       "    <tr>\n",
       "      <th>0</th>\n",
       "      <td>2016-01-01</td>\n",
       "    </tr>\n",
       "    <tr>\n",
       "      <th>1</th>\n",
       "      <td>2016-01-02</td>\n",
       "    </tr>\n",
       "    <tr>\n",
       "      <th>2</th>\n",
       "      <td>2016-01-03</td>\n",
       "    </tr>\n",
       "    <tr>\n",
       "      <th>3</th>\n",
       "      <td>2016-01-04</td>\n",
       "    </tr>\n",
       "    <tr>\n",
       "      <th>4</th>\n",
       "      <td>2016-01-05</td>\n",
       "    </tr>\n",
       "    <tr>\n",
       "      <th>...</th>\n",
       "      <td>...</td>\n",
       "    </tr>\n",
       "    <tr>\n",
       "      <th>2542</th>\n",
       "      <td>2022-12-17</td>\n",
       "    </tr>\n",
       "    <tr>\n",
       "      <th>2543</th>\n",
       "      <td>2022-12-18</td>\n",
       "    </tr>\n",
       "    <tr>\n",
       "      <th>2544</th>\n",
       "      <td>2022-12-19</td>\n",
       "    </tr>\n",
       "    <tr>\n",
       "      <th>2545</th>\n",
       "      <td>2022-12-20</td>\n",
       "    </tr>\n",
       "    <tr>\n",
       "      <th>2546</th>\n",
       "      <td>2022-12-21</td>\n",
       "    </tr>\n",
       "  </tbody>\n",
       "</table>\n",
       "<p>2547 rows × 1 columns</p>\n",
       "</div>"
      ],
      "text/plain": [
       "             ds\n",
       "0    2016-01-01\n",
       "1    2016-01-02\n",
       "2    2016-01-03\n",
       "3    2016-01-04\n",
       "4    2016-01-05\n",
       "...         ...\n",
       "2542 2022-12-17\n",
       "2543 2022-12-18\n",
       "2544 2022-12-19\n",
       "2545 2022-12-20\n",
       "2546 2022-12-21\n",
       "\n",
       "[2547 rows x 1 columns]"
      ]
     },
     "execution_count": 7,
     "metadata": {},
     "output_type": "execute_result"
    }
   ],
   "source": [
    "future = model.make_future_dataframe(periods= 365, freq='d')\n",
    "future"
   ]
  },
  {
   "cell_type": "code",
   "execution_count": 8,
   "id": "b2bb105b",
   "metadata": {
    "ExecuteTime": {
     "end_time": "2023-07-22T02:02:56.317760Z",
     "start_time": "2023-07-22T02:02:56.301024Z"
    }
   },
   "outputs": [
    {
     "data": {
      "text/html": [
       "<div>\n",
       "<style scoped>\n",
       "    .dataframe tbody tr th:only-of-type {\n",
       "        vertical-align: middle;\n",
       "    }\n",
       "\n",
       "    .dataframe tbody tr th {\n",
       "        vertical-align: top;\n",
       "    }\n",
       "\n",
       "    .dataframe thead th {\n",
       "        text-align: right;\n",
       "    }\n",
       "</style>\n",
       "<table border=\"1\" class=\"dataframe\">\n",
       "  <thead>\n",
       "    <tr style=\"text-align: right;\">\n",
       "      <th></th>\n",
       "      <th>ds</th>\n",
       "    </tr>\n",
       "  </thead>\n",
       "  <tbody>\n",
       "    <tr>\n",
       "      <th>0</th>\n",
       "      <td>2023-01-21</td>\n",
       "    </tr>\n",
       "  </tbody>\n",
       "</table>\n",
       "</div>"
      ],
      "text/plain": [
       "           ds\n",
       "0  2023-01-21"
      ]
     },
     "execution_count": 8,
     "metadata": {},
     "output_type": "execute_result"
    }
   ],
   "source": [
    "input_data = pd.DataFrame({'ds': ['2023-01-21']})\n",
    "input_data"
   ]
  },
  {
   "cell_type": "code",
   "execution_count": 9,
   "id": "f3804e5f",
   "metadata": {
    "ExecuteTime": {
     "end_time": "2023-07-22T02:03:25.419701Z",
     "start_time": "2023-07-22T02:03:25.292516Z"
    }
   },
   "outputs": [],
   "source": [
    "forecast = model.predict(input_data)"
   ]
  },
  {
   "cell_type": "code",
   "execution_count": 10,
   "id": "ae2be43f",
   "metadata": {
    "ExecuteTime": {
     "end_time": "2023-07-22T02:03:26.695341Z",
     "start_time": "2023-07-22T02:03:26.654746Z"
    }
   },
   "outputs": [
    {
     "data": {
      "text/html": [
       "<div>\n",
       "<style scoped>\n",
       "    .dataframe tbody tr th:only-of-type {\n",
       "        vertical-align: middle;\n",
       "    }\n",
       "\n",
       "    .dataframe tbody tr th {\n",
       "        vertical-align: top;\n",
       "    }\n",
       "\n",
       "    .dataframe thead th {\n",
       "        text-align: right;\n",
       "    }\n",
       "</style>\n",
       "<table border=\"1\" class=\"dataframe\">\n",
       "  <thead>\n",
       "    <tr style=\"text-align: right;\">\n",
       "      <th></th>\n",
       "      <th>ds</th>\n",
       "      <th>trend</th>\n",
       "      <th>yhat_lower</th>\n",
       "      <th>yhat_upper</th>\n",
       "      <th>trend_lower</th>\n",
       "      <th>trend_upper</th>\n",
       "      <th>additive_terms</th>\n",
       "      <th>additive_terms_lower</th>\n",
       "      <th>additive_terms_upper</th>\n",
       "      <th>weekly</th>\n",
       "      <th>weekly_lower</th>\n",
       "      <th>weekly_upper</th>\n",
       "      <th>yearly</th>\n",
       "      <th>yearly_lower</th>\n",
       "      <th>yearly_upper</th>\n",
       "      <th>multiplicative_terms</th>\n",
       "      <th>multiplicative_terms_lower</th>\n",
       "      <th>multiplicative_terms_upper</th>\n",
       "      <th>yhat</th>\n",
       "    </tr>\n",
       "  </thead>\n",
       "  <tbody>\n",
       "    <tr>\n",
       "      <th>0</th>\n",
       "      <td>2023-01-21</td>\n",
       "      <td>4165.700109</td>\n",
       "      <td>3925.861363</td>\n",
       "      <td>4377.299148</td>\n",
       "      <td>4165.700109</td>\n",
       "      <td>4165.700109</td>\n",
       "      <td>-9.009939</td>\n",
       "      <td>-9.009939</td>\n",
       "      <td>-9.009939</td>\n",
       "      <td>1.16149</td>\n",
       "      <td>1.16149</td>\n",
       "      <td>1.16149</td>\n",
       "      <td>-10.171429</td>\n",
       "      <td>-10.171429</td>\n",
       "      <td>-10.171429</td>\n",
       "      <td>0.0</td>\n",
       "      <td>0.0</td>\n",
       "      <td>0.0</td>\n",
       "      <td>4156.690171</td>\n",
       "    </tr>\n",
       "  </tbody>\n",
       "</table>\n",
       "</div>"
      ],
      "text/plain": [
       "          ds        trend   yhat_lower   yhat_upper  trend_lower  trend_upper  \\\n",
       "0 2023-01-21  4165.700109  3925.861363  4377.299148  4165.700109  4165.700109   \n",
       "\n",
       "   additive_terms  additive_terms_lower  additive_terms_upper   weekly  \\\n",
       "0       -9.009939             -9.009939             -9.009939  1.16149   \n",
       "\n",
       "   weekly_lower  weekly_upper     yearly  yearly_lower  yearly_upper  \\\n",
       "0       1.16149       1.16149 -10.171429    -10.171429    -10.171429   \n",
       "\n",
       "   multiplicative_terms  multiplicative_terms_lower  \\\n",
       "0                   0.0                         0.0   \n",
       "\n",
       "   multiplicative_terms_upper         yhat  \n",
       "0                         0.0  4156.690171  "
      ]
     },
     "execution_count": 10,
     "metadata": {},
     "output_type": "execute_result"
    }
   ],
   "source": [
    "forecast"
   ]
  },
  {
   "cell_type": "code",
   "execution_count": 11,
   "id": "dbea8bb5",
   "metadata": {
    "ExecuteTime": {
     "end_time": "2023-07-22T02:03:35.208700Z",
     "start_time": "2023-07-22T02:03:35.193236Z"
    }
   },
   "outputs": [],
   "source": [
    "import pickle "
   ]
  },
  {
   "cell_type": "code",
   "execution_count": 12,
   "id": "e1b25e53",
   "metadata": {
    "ExecuteTime": {
     "end_time": "2023-07-22T02:03:39.186452Z",
     "start_time": "2023-07-22T02:03:39.157436Z"
    }
   },
   "outputs": [],
   "source": [
    "with open(\"p_model\", \"wb\") as f:\n",
    "    pickle.dump(model, f)"
   ]
  },
  {
   "cell_type": "code",
   "execution_count": null,
   "id": "90b136c5",
   "metadata": {},
   "outputs": [],
   "source": []
  }
 ],
 "metadata": {
  "kernelspec": {
   "display_name": "Python 3 (ipykernel)",
   "language": "python",
   "name": "python3"
  },
  "language_info": {
   "codemirror_mode": {
    "name": "ipython",
    "version": 3
   },
   "file_extension": ".py",
   "mimetype": "text/x-python",
   "name": "python",
   "nbconvert_exporter": "python",
   "pygments_lexer": "ipython3",
   "version": "3.9.13"
  }
 },
 "nbformat": 4,
 "nbformat_minor": 5
}
